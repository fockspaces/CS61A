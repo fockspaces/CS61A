{
 "cells": [
  {
   "cell_type": "code",
   "execution_count": 2,
   "metadata": {},
   "outputs": [],
   "source": [
    "from operator import add, mul\n",
    "\n",
    "square = lambda x: x * x\n",
    "\n",
    "identity = lambda x: x\n",
    "\n",
    "triple = lambda x: 3 * x\n",
    "\n",
    "increment = lambda x: x + 1\n"
   ]
  },
  {
   "cell_type": "code",
   "execution_count": 6,
   "metadata": {},
   "outputs": [],
   "source": [
    "def summation_using_accumulate(n, term):\n",
    "    \"\"\"Returns the sum: term(1) + ... + term(n), using accumulate.\n",
    "\n",
    "    >>> summation_using_accumulate(5, square)\n",
    "    55\n",
    "    >>> summation_using_accumulate(5, triple)\n",
    "    45\n",
    "    >>> # You aren't expected to understand the code of this test.\n",
    "    >>> # Check that the bodies of the functions are just return statements.\n",
    "    >>> # If this errors, make sure you have removed the \"***YOUR CODE HERE***\".\n",
    "    >>> import inspect, ast\n",
    "    >>> [type(x).__name__ for x in ast.parse(inspect.getsource(summation_using_accumulate)).body[0].body]\n",
    "    ['Expr', 'Return']\n",
    "    \"\"\"\n",
    "    \"*** YOUR CODE HERE ***\"\n",
    "    ans = term(n)\n",
    "    while(n) :\n",
    "        n -= 1\n",
    "        ans = add(ans, term(n))\n",
    "    return ans\n"
   ]
  },
  {
   "cell_type": "code",
   "execution_count": 7,
   "metadata": {},
   "outputs": [
    {
     "data": {
      "text/plain": [
       "25"
      ]
     },
     "execution_count": 7,
     "metadata": {},
     "output_type": "execute_result"
    }
   ],
   "source": [
    "summation_using_accumulate(5, square)"
   ]
  }
 ],
 "metadata": {
  "interpreter": {
   "hash": "c8329c871cf7b4eaebc581681742ec59f238b3d71078263ea60099f5ea333c9d"
  },
  "kernelspec": {
   "display_name": "Python 3.10.1 64-bit",
   "language": "python",
   "name": "python3"
  },
  "language_info": {
   "codemirror_mode": {
    "name": "ipython",
    "version": 3
   },
   "file_extension": ".py",
   "mimetype": "text/x-python",
   "name": "python",
   "nbconvert_exporter": "python",
   "pygments_lexer": "ipython3",
   "version": "3.10.1"
  },
  "orig_nbformat": 4
 },
 "nbformat": 4,
 "nbformat_minor": 2
}
