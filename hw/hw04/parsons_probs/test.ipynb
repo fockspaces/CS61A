{
 "cells": [
  {
   "cell_type": "code",
   "execution_count": 1,
   "metadata": {},
   "outputs": [],
   "source": [
    "def merge(lst1, lst2):\n",
    "    \"\"\"Merges two sorted lists.\n",
    "\n",
    "    >>> merge([1, 3, 5], [2, 4, 6])\n",
    "    [1, 2, 3, 4, 5, 6]\n",
    "    >>> merge([], [2, 4, 6])\n",
    "    [2, 4, 6]\n",
    "    >>> merge([1, 2, 3], [])\n",
    "    [1, 2, 3]\n",
    "    >>> merge([5, 7], [2, 4, 6])\n",
    "    [2, 4, 5, 6, 7]\n",
    "    \"\"\"\n",
    "    \"*** YOUR CODE HERE ***\"\n",
    "    list = []\n",
    "    if not lst1 : return lst2 \n",
    "    if lst1[0] < lst2[0] : \n",
    "        list.append(lst1[0])\n",
    "        list.extend(merge(lst1[1:], lst2))\n",
    "    else : \n",
    "        list.append(lst2[0])\n",
    "        list.extend(merge(lst1, lst2[1:]))\n",
    "    return list"
   ]
  },
  {
   "cell_type": "code",
   "execution_count": 2,
   "metadata": {},
   "outputs": [
    {
     "data": {
      "text/plain": [
       "[1, 2, 3, 4, 5, 6]"
      ]
     },
     "execution_count": 2,
     "metadata": {},
     "output_type": "execute_result"
    }
   ],
   "source": [
    "merge([1, 3, 5], [2, 4, 6])"
   ]
  },
  {
   "cell_type": "code",
   "execution_count": 25,
   "metadata": {},
   "outputs": [
    {
     "data": {
      "text/plain": [
       "'I now have 1 Mayo'"
      ]
     },
     "execution_count": 25,
     "metadata": {},
     "output_type": "execute_result"
    }
   ],
   "source": []
  }
 ],
 "metadata": {
  "interpreter": {
   "hash": "b2f7ecff181b557275521d41f1f8be7436e874031bfbf5f1ff44db52c0c578c4"
  },
  "kernelspec": {
   "display_name": "Python 3.10.4 64-bit (windows store)",
   "language": "python",
   "name": "python3"
  },
  "language_info": {
   "codemirror_mode": {
    "name": "ipython",
    "version": 3
   },
   "file_extension": ".py",
   "mimetype": "text/x-python",
   "name": "python",
   "nbconvert_exporter": "python",
   "pygments_lexer": "ipython3",
   "version": "3.10.4"
  },
  "orig_nbformat": 4
 },
 "nbformat": 4,
 "nbformat_minor": 2
}
