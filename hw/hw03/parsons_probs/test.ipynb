{
 "cells": [
  {
   "cell_type": "code",
   "execution_count": 45,
   "metadata": {},
   "outputs": [],
   "source": [
    "def get_larger_coin(coin):\n",
    "    \"\"\"Returns the next larger coin in order.\n",
    "    >>> get_larger_coin(1)\n",
    "    5\n",
    "    >>> get_larger_coin(5)\n",
    "    10\n",
    "    >>> get_larger_coin(10)\n",
    "    25\n",
    "    >>> get_larger_coin(2) # Other values return None\n",
    "    \"\"\"\n",
    "    if coin == 1:\n",
    "        return 5\n",
    "    elif coin == 5:\n",
    "        return 10\n",
    "    elif coin == 10:\n",
    "        return 25\n",
    "\n",
    "\n",
    "def get_smaller_coin(coin):\n",
    "    \"\"\"Returns the next smaller coin in order.\n",
    "    >>> get_smaller_coin(25)\n",
    "    10\n",
    "    >>> get_smaller_coin(10)\n",
    "    5\n",
    "    >>> get_smaller_coin(5)\n",
    "    1\n",
    "    >>> get_smaller_coin(2) # Other values return None\n",
    "    \"\"\"\n",
    "    if coin > 25 : return 25\n",
    "    elif coin > 10 and coin <= 25:\n",
    "        return 10\n",
    "    elif coin > 5 and coin <= 10:\n",
    "        return 5\n",
    "    elif coin > 1 and coin <= 5:\n",
    "        return 1\n",
    "\n",
    "\n",
    "def count_coins(change):\n",
    "    \"\"\"Return the number of ways to make change using coins of value of 1, 5, 10, 25.\n",
    "    >>> count_coins(15)\n",
    "    6\n",
    "    >>> count_coins(10)\n",
    "    4\n",
    "    >>> count_coins(20)\n",
    "    9\n",
    "    >>> count_coins(100) # How many ways to make change for a dollar?\n",
    "    242\n",
    "    >>> count_coins(200)\n",
    "    1463\n",
    "    >>> from construct_check import check\n",
    "    >>> # ban iteration\n",
    "    >>> check(HW_SOURCE_FILE, 'count_coins', ['While', 'For'])\n",
    "    True\n",
    "    \"\"\"\n",
    "    \"*** YOUR CODE HERE ***\"\n",
    "    if change == 1 : return 1\n",
    "    return count_coins(change - get_smaller_coin(change)) + count_coins(get_smaller_coin(change))"
   ]
  },
  {
   "cell_type": "code",
   "execution_count": 48,
   "metadata": {},
   "outputs": [
    {
     "data": {
      "text/plain": [
       "20"
      ]
     },
     "execution_count": 48,
     "metadata": {},
     "output_type": "execute_result"
    }
   ],
   "source": [
    "count_coins(20)"
   ]
  }
 ],
 "metadata": {
  "interpreter": {
   "hash": "c8329c871cf7b4eaebc581681742ec59f238b3d71078263ea60099f5ea333c9d"
  },
  "kernelspec": {
   "display_name": "Python 3.10.1 64-bit",
   "language": "python",
   "name": "python3"
  },
  "language_info": {
   "codemirror_mode": {
    "name": "ipython",
    "version": 3
   },
   "file_extension": ".py",
   "mimetype": "text/x-python",
   "name": "python",
   "nbconvert_exporter": "python",
   "pygments_lexer": "ipython3",
   "version": "3.10.1"
  },
  "orig_nbformat": 4
 },
 "nbformat": 4,
 "nbformat_minor": 2
}
