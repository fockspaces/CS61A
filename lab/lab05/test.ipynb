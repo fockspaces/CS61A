{
 "cells": [
  {
   "cell_type": "code",
   "execution_count": 2,
   "metadata": {},
   "outputs": [],
   "source": [
    "def insert_items(lst, entry, elem):\n",
    "    \"\"\"Inserts elem into lst after each occurence of entry and then returns lst.\n",
    "\n",
    "    >>> test_lst = [1, 5, 8, 5, 2, 3]\n",
    "    >>> new_lst = insert_items(test_lst, 5, 7)\n",
    "    >>> new_lst\n",
    "    [1, 5, 7, 8, 5, 7, 2, 3]\n",
    "    >>> double_lst = [1, 2, 1, 2, 3, 3]\n",
    "    >>> double_lst = insert_items(double_lst, 3, 4)\n",
    "    >>> double_lst\n",
    "    [1, 2, 1, 2, 3, 4, 3, 4]\n",
    "    >>> large_lst = [1, 4, 8]\n",
    "    >>> large_lst2 = insert_items(large_lst, 4, 4)\n",
    "    >>> large_lst2\n",
    "    [1, 4, 4, 8]\n",
    "    >>> large_lst3 = insert_items(large_lst2, 4, 6)\n",
    "    >>> large_lst3\n",
    "    [1, 4, 6, 4, 6, 8]\n",
    "    >>> large_lst3 is large_lst\n",
    "    True\n",
    "    >>> # Ban creating new lists\n",
    "    >>> from construct_check import check\n",
    "    >>> check(HW_SOURCE_FILE, 'insert_items',\n",
    "    ...       ['List', 'ListComp', 'Slice'])\n",
    "    True\n",
    "    \"\"\"\n",
    "    \"*** YOUR CODE HERE ***\"\n",
    "    if len(lst) == 1 : return [lst[0], elem] if lst[0] == entry else lst \n",
    "    if lst[0] != entry : return [lst[0]] + insert_items(lst[1:], entry, elem)\n",
    "    else : [entry, elem] + insert_items(lst[1:], entry, elem)"
   ]
  },
  {
   "cell_type": "code",
   "execution_count": 3,
   "metadata": {},
   "outputs": [
    {
     "ename": "TypeError",
     "evalue": "can only concatenate list (not \"NoneType\") to list",
     "output_type": "error",
     "traceback": [
      "\u001b[1;31m---------------------------------------------------------------------------\u001b[0m",
      "\u001b[1;31mTypeError\u001b[0m                                 Traceback (most recent call last)",
      "\u001b[1;32m\\Ubuntu\\home\\fockspace\\cs61a\\lab\\lab05\\test.ipynb Cell 2'\u001b[0m in \u001b[0;36m<cell line: 2>\u001b[1;34m()\u001b[0m\n\u001b[0;32m      <a href='vscode-notebook-cell://wsl%24/Ubuntu/home/fockspace/cs61a/lab/lab05/test.ipynb#ch0000001?line=0'>1</a>\u001b[0m test_lst \u001b[39m=\u001b[39m [\u001b[39m1\u001b[39m, \u001b[39m5\u001b[39m, \u001b[39m8\u001b[39m, \u001b[39m5\u001b[39m, \u001b[39m2\u001b[39m, \u001b[39m3\u001b[39m]\n\u001b[1;32m----> <a href='vscode-notebook-cell://wsl%24/Ubuntu/home/fockspace/cs61a/lab/lab05/test.ipynb#ch0000001?line=1'>2</a>\u001b[0m insert_items(test_lst, \u001b[39m5\u001b[39;49m, \u001b[39m7\u001b[39;49m)\n",
      "\u001b[1;32m\\Ubuntu\\home\\fockspace\\cs61a\\lab\\lab05\\test.ipynb Cell 1'\u001b[0m in \u001b[0;36minsert_items\u001b[1;34m(lst, entry, elem)\u001b[0m\n\u001b[0;32m     <a href='vscode-notebook-cell://wsl%24/Ubuntu/home/fockspace/cs61a/lab/lab05/test.ipynb#ch0000000?line=26'>27</a>\u001b[0m \u001b[39m\"\u001b[39m\u001b[39m*** YOUR CODE HERE ***\u001b[39m\u001b[39m\"\u001b[39m\n\u001b[0;32m     <a href='vscode-notebook-cell://wsl%24/Ubuntu/home/fockspace/cs61a/lab/lab05/test.ipynb#ch0000000?line=27'>28</a>\u001b[0m \u001b[39mif\u001b[39;00m \u001b[39mlen\u001b[39m(lst) \u001b[39m==\u001b[39m \u001b[39m1\u001b[39m : \u001b[39mreturn\u001b[39;00m [lst[\u001b[39m0\u001b[39m], elem] \u001b[39mif\u001b[39;00m lst[\u001b[39m0\u001b[39m] \u001b[39m==\u001b[39m entry \u001b[39melse\u001b[39;00m lst \n\u001b[1;32m---> <a href='vscode-notebook-cell://wsl%24/Ubuntu/home/fockspace/cs61a/lab/lab05/test.ipynb#ch0000000?line=28'>29</a>\u001b[0m \u001b[39mif\u001b[39;00m lst[\u001b[39m0\u001b[39m] \u001b[39m!=\u001b[39m entry : \u001b[39mreturn\u001b[39;00m [lst[\u001b[39m0\u001b[39m]] \u001b[39m+\u001b[39m insert_items(lst[\u001b[39m1\u001b[39;49m:], entry, elem)\n\u001b[0;32m     <a href='vscode-notebook-cell://wsl%24/Ubuntu/home/fockspace/cs61a/lab/lab05/test.ipynb#ch0000000?line=29'>30</a>\u001b[0m \u001b[39melse\u001b[39;00m : [entry, elem] \u001b[39m+\u001b[39m insert_items(lst[\u001b[39m1\u001b[39m:], entry, elem)\n",
      "\u001b[1;32m\\Ubuntu\\home\\fockspace\\cs61a\\lab\\lab05\\test.ipynb Cell 1'\u001b[0m in \u001b[0;36minsert_items\u001b[1;34m(lst, entry, elem)\u001b[0m\n\u001b[0;32m     <a href='vscode-notebook-cell://wsl%24/Ubuntu/home/fockspace/cs61a/lab/lab05/test.ipynb#ch0000000?line=27'>28</a>\u001b[0m \u001b[39mif\u001b[39;00m \u001b[39mlen\u001b[39m(lst) \u001b[39m==\u001b[39m \u001b[39m1\u001b[39m : \u001b[39mreturn\u001b[39;00m [lst[\u001b[39m0\u001b[39m], elem] \u001b[39mif\u001b[39;00m lst[\u001b[39m0\u001b[39m] \u001b[39m==\u001b[39m entry \u001b[39melse\u001b[39;00m lst \n\u001b[0;32m     <a href='vscode-notebook-cell://wsl%24/Ubuntu/home/fockspace/cs61a/lab/lab05/test.ipynb#ch0000000?line=28'>29</a>\u001b[0m \u001b[39mif\u001b[39;00m lst[\u001b[39m0\u001b[39m] \u001b[39m!=\u001b[39m entry : \u001b[39mreturn\u001b[39;00m [lst[\u001b[39m0\u001b[39m]] \u001b[39m+\u001b[39m insert_items(lst[\u001b[39m1\u001b[39m:], entry, elem)\n\u001b[1;32m---> <a href='vscode-notebook-cell://wsl%24/Ubuntu/home/fockspace/cs61a/lab/lab05/test.ipynb#ch0000000?line=29'>30</a>\u001b[0m \u001b[39melse\u001b[39;00m : [entry, elem] \u001b[39m+\u001b[39m insert_items(lst[\u001b[39m1\u001b[39;49m:], entry, elem)\n",
      "\u001b[1;32m\\Ubuntu\\home\\fockspace\\cs61a\\lab\\lab05\\test.ipynb Cell 1'\u001b[0m in \u001b[0;36minsert_items\u001b[1;34m(lst, entry, elem)\u001b[0m\n\u001b[0;32m     <a href='vscode-notebook-cell://wsl%24/Ubuntu/home/fockspace/cs61a/lab/lab05/test.ipynb#ch0000000?line=26'>27</a>\u001b[0m \u001b[39m\"\u001b[39m\u001b[39m*** YOUR CODE HERE ***\u001b[39m\u001b[39m\"\u001b[39m\n\u001b[0;32m     <a href='vscode-notebook-cell://wsl%24/Ubuntu/home/fockspace/cs61a/lab/lab05/test.ipynb#ch0000000?line=27'>28</a>\u001b[0m \u001b[39mif\u001b[39;00m \u001b[39mlen\u001b[39m(lst) \u001b[39m==\u001b[39m \u001b[39m1\u001b[39m : \u001b[39mreturn\u001b[39;00m [lst[\u001b[39m0\u001b[39m], elem] \u001b[39mif\u001b[39;00m lst[\u001b[39m0\u001b[39m] \u001b[39m==\u001b[39m entry \u001b[39melse\u001b[39;00m lst \n\u001b[1;32m---> <a href='vscode-notebook-cell://wsl%24/Ubuntu/home/fockspace/cs61a/lab/lab05/test.ipynb#ch0000000?line=28'>29</a>\u001b[0m \u001b[39mif\u001b[39;00m lst[\u001b[39m0\u001b[39m] \u001b[39m!=\u001b[39m entry : \u001b[39mreturn\u001b[39;00m [lst[\u001b[39m0\u001b[39;49m]] \u001b[39m+\u001b[39;49m insert_items(lst[\u001b[39m1\u001b[39;49m:], entry, elem)\n\u001b[0;32m     <a href='vscode-notebook-cell://wsl%24/Ubuntu/home/fockspace/cs61a/lab/lab05/test.ipynb#ch0000000?line=29'>30</a>\u001b[0m \u001b[39melse\u001b[39;00m : [entry, elem] \u001b[39m+\u001b[39m insert_items(lst[\u001b[39m1\u001b[39m:], entry, elem)\n",
      "\u001b[1;31mTypeError\u001b[0m: can only concatenate list (not \"NoneType\") to list"
     ]
    }
   ],
   "source": [
    "test_lst = [1, 5, 8, 5, 2, 3]\n",
    "insert_items(test_lst, 5, 7)"
   ]
  }
 ],
 "metadata": {
  "interpreter": {
   "hash": "b2f7ecff181b557275521d41f1f8be7436e874031bfbf5f1ff44db52c0c578c4"
  },
  "kernelspec": {
   "display_name": "Python 3.10.4 64-bit (windows store)",
   "language": "python",
   "name": "python3"
  },
  "language_info": {
   "codemirror_mode": {
    "name": "ipython",
    "version": 3
   },
   "file_extension": ".py",
   "mimetype": "text/x-python",
   "name": "python",
   "nbconvert_exporter": "python",
   "pygments_lexer": "ipython3",
   "version": "3.10.4"
  },
  "orig_nbformat": 4
 },
 "nbformat": 4,
 "nbformat_minor": 2
}
